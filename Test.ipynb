{
 "cells": [
  {
   "cell_type": "code",
   "execution_count": null,
   "metadata": {},
   "outputs": [],
   "source": [
    "import requests\n",
    "from config import client_id"
   ]
  },
  {
   "cell_type": "code",
   "execution_count": null,
   "metadata": {},
   "outputs": [],
   "source": [
    "#daily price endpoint\n",
    "\n",
    "#endpoint\n",
    "endpoint = r\"https://api.tdameritrade.com/v1/marketdata/{}/pricehistory\".format('AAPL')\n",
    "\n",
    "#payload\n",
    "payload = {'apikey':client_id,\n",
    "           'periodType': 'day',\n",
    "           'frequencyType': 'minute',\n",
    "           'frequency': '1',\n",
    "           'period': '2',\n",
    "           #'endDate': '1556158524000',\n",
    "           'startDate': '1601919191000',\n",
    "           'extendedHours': 'True'}\n",
    "\n",
    "#make request\n",
    "content = requests.get(url = endpoint, params = payload)\n",
    "\n",
    "#convert to dictionary\n",
    "candles = content.json()\n",
    "candles"
   ]
  },
  {
   "cell_type": "code",
   "execution_count": null,
   "metadata": {
    "scrolled": false
   },
   "outputs": [],
   "source": [
    "#plot candles\n",
    "from pandas.io.json import json_normalize\n",
    "import plotly.graph_objects as go\n",
    "\n",
    "import pandas as pd\n",
    "from datetime import datetime\n",
    "\n",
    "dat = candles['candles']\n",
    "\n",
    "df = pd.DataFrame(dat)\n",
    "df\n",
    "\n",
    "fig = go.Figure(data=[go.Candlestick(x=df['datetime'],\n",
    "                open=df['open'],\n",
    "                high=df['high'],\n",
    "                low=df['low'],\n",
    "               close=df['close'])])\n",
    "\n",
    "fig.show()"
   ]
  }
 ],
 "metadata": {
  "kernelspec": {
   "display_name": "Python 3",
   "language": "python",
   "name": "python3"
  },
  "language_info": {
   "codemirror_mode": {
    "name": "ipython",
    "version": 3
   },
   "file_extension": ".py",
   "mimetype": "text/x-python",
   "name": "python",
   "nbconvert_exporter": "python",
   "pygments_lexer": "ipython3",
   "version": "3.7.6"
  }
 },
 "nbformat": 4,
 "nbformat_minor": 4
}
